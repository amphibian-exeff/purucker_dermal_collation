{
 "cells": [
  {
   "cell_type": "markdown",
   "metadata": {},
   "source": [
    "# Amphibian dermal exposure model - Bayesian inference\n",
    "***"
   ]
  },
  {
   "cell_type": "markdown",
   "metadata": {},
   "source": [
    "In this notebook we will try to fit a simple amphibian dermal exposure model to data from lab tests.\n",
    "\n",
    "\n",
    "## The model\n",
    "***"
   ]
  },
  {
   "cell_type": "markdown",
   "metadata": {},
   "source": [
    "\\begin{equation*}\n",
    "Predicted\\_tissue\\_conc = \\frac{(app\\_rate * surface\\_area * conv\\_rate * \\mathbf{dermal\\_af)}}{body\\_weight}\n",
    "\\end{equation*}\n"
   ]
  },
  {
   "cell_type": "markdown",
   "metadata": {},
   "source": [
    "We will focus on fitting one important but poorly understood parameter: **dermal_af**, which describes the fraction of amphibian surface area that comes in contact with the soil medium. \n",
    "\n",
    "Our method for inferring this paramter's distribution will be a simple Metropolis-Hastings MCMC algorithm."
   ]
  },
  {
   "cell_type": "markdown",
   "metadata": {},
   "source": [
    "## The data set\n",
    "***"
   ]
  },
  {
   "cell_type": "code",
   "execution_count": 1,
   "metadata": {},
   "outputs": [
    {
     "data": {
      "text/html": [
       "<table>\n",
       "<thead><tr><th scope=col>X</th><th scope=col>app_rate_g_cm2</th><th scope=col>application</th><th scope=col>body_weight_g</th><th scope=col>chemical</th><th scope=col>exp_duration</th><th scope=col>formulation</th><th scope=col>sample_id</th><th scope=col>soil_conc_ugg</th><th scope=col>soil_type</th><th scope=col>source</th><th scope=col>species</th><th scope=col>tissue_conc_ugg</th></tr></thead>\n",
       "<tbody>\n",
       "\t<tr><td>1               </td><td>5.58e-06        </td><td>Overspray       </td><td>1.73625         </td><td>Imidacloprid    </td><td>8               </td><td>0               </td><td>HGOI1           </td><td> 0.4798464      </td><td>PLE             </td><td>rvm2015         </td><td>Barking treefrog</td><td>1.0152872       </td></tr>\n",
       "\t<tr><td>2               </td><td>5.58e-06        </td><td>Overspray       </td><td>2.61111         </td><td>Imidacloprid    </td><td>8               </td><td>0               </td><td>HGOI2           </td><td> 0.4798464      </td><td>PLE             </td><td>rvm2015         </td><td>Barking treefrog</td><td>1.6360832       </td></tr>\n",
       "\t<tr><td>3               </td><td>5.58e-06        </td><td>Overspray       </td><td>1.82332         </td><td>Imidacloprid    </td><td>8               </td><td>0               </td><td>HGOI3           </td><td> 0.4798464      </td><td>PLE             </td><td>rvm2015         </td><td>Barking treefrog</td><td>0.9261004       </td></tr>\n",
       "\t<tr><td>4               </td><td>5.58e-06        </td><td>Overspray       </td><td>2.91551         </td><td>Imidacloprid    </td><td>8               </td><td>0               </td><td>HGOI4           </td><td> 0.4798464      </td><td>PLE             </td><td>rvm2015         </td><td>Barking treefrog</td><td>0.7182776       </td></tr>\n",
       "\t<tr><td>5               </td><td>5.58e-06        </td><td>Overspray       </td><td>2.49115         </td><td>Imidacloprid    </td><td>8               </td><td>0               </td><td>HGOI5           </td><td> 0.4798464      </td><td>PLE             </td><td>rvm2015         </td><td>Barking treefrog</td><td>1.0890361       </td></tr>\n",
       "\t<tr><td>6               </td><td>2.00e-05        </td><td>Overspray       </td><td>2.09766         </td><td>Pendimethalin   </td><td>8               </td><td>0               </td><td>HGOP1           </td><td>12.1193484      </td><td>PLE             </td><td>rvm2015         </td><td>Barking treefrog</td><td>2.1387952       </td></tr>\n",
       "</tbody>\n",
       "</table>\n"
      ],
      "text/latex": [
       "\\begin{tabular}{r|lllllllllllll}\n",
       " X & app\\_rate\\_g\\_cm2 & application & body\\_weight\\_g & chemical & exp\\_duration & formulation & sample\\_id & soil\\_conc\\_ugg & soil\\_type & source & species & tissue\\_conc\\_ugg\\\\\n",
       "\\hline\n",
       "\t 1                & 5.58e-06         & Overspray        & 1.73625          & Imidacloprid     & 8                & 0                & HGOI1            &  0.4798464       & PLE              & rvm2015          & Barking treefrog & 1.0152872       \\\\\n",
       "\t 2                & 5.58e-06         & Overspray        & 2.61111          & Imidacloprid     & 8                & 0                & HGOI2            &  0.4798464       & PLE              & rvm2015          & Barking treefrog & 1.6360832       \\\\\n",
       "\t 3                & 5.58e-06         & Overspray        & 1.82332          & Imidacloprid     & 8                & 0                & HGOI3            &  0.4798464       & PLE              & rvm2015          & Barking treefrog & 0.9261004       \\\\\n",
       "\t 4                & 5.58e-06         & Overspray        & 2.91551          & Imidacloprid     & 8                & 0                & HGOI4            &  0.4798464       & PLE              & rvm2015          & Barking treefrog & 0.7182776       \\\\\n",
       "\t 5                & 5.58e-06         & Overspray        & 2.49115          & Imidacloprid     & 8                & 0                & HGOI5            &  0.4798464       & PLE              & rvm2015          & Barking treefrog & 1.0890361       \\\\\n",
       "\t 6                & 2.00e-05         & Overspray        & 2.09766          & Pendimethalin    & 8                & 0                & HGOP1            & 12.1193484       & PLE              & rvm2015          & Barking treefrog & 2.1387952       \\\\\n",
       "\\end{tabular}\n"
      ],
      "text/markdown": [
       "\n",
       "X | app_rate_g_cm2 | application | body_weight_g | chemical | exp_duration | formulation | sample_id | soil_conc_ugg | soil_type | source | species | tissue_conc_ugg | \n",
       "|---|---|---|---|---|---|\n",
       "| 1                | 5.58e-06         | Overspray        | 1.73625          | Imidacloprid     | 8                | 0                | HGOI1            |  0.4798464       | PLE              | rvm2015          | Barking treefrog | 1.0152872        | \n",
       "| 2                | 5.58e-06         | Overspray        | 2.61111          | Imidacloprid     | 8                | 0                | HGOI2            |  0.4798464       | PLE              | rvm2015          | Barking treefrog | 1.6360832        | \n",
       "| 3                | 5.58e-06         | Overspray        | 1.82332          | Imidacloprid     | 8                | 0                | HGOI3            |  0.4798464       | PLE              | rvm2015          | Barking treefrog | 0.9261004        | \n",
       "| 4                | 5.58e-06         | Overspray        | 2.91551          | Imidacloprid     | 8                | 0                | HGOI4            |  0.4798464       | PLE              | rvm2015          | Barking treefrog | 0.7182776        | \n",
       "| 5                | 5.58e-06         | Overspray        | 2.49115          | Imidacloprid     | 8                | 0                | HGOI5            |  0.4798464       | PLE              | rvm2015          | Barking treefrog | 1.0890361        | \n",
       "| 6                | 2.00e-05         | Overspray        | 2.09766          | Pendimethalin    | 8                | 0                | HGOP1            | 12.1193484       | PLE              | rvm2015          | Barking treefrog | 2.1387952        | \n",
       "\n",
       "\n"
      ],
      "text/plain": [
       "  X app_rate_g_cm2 application body_weight_g chemical      exp_duration\n",
       "1 1 5.58e-06       Overspray   1.73625       Imidacloprid  8           \n",
       "2 2 5.58e-06       Overspray   2.61111       Imidacloprid  8           \n",
       "3 3 5.58e-06       Overspray   1.82332       Imidacloprid  8           \n",
       "4 4 5.58e-06       Overspray   2.91551       Imidacloprid  8           \n",
       "5 5 5.58e-06       Overspray   2.49115       Imidacloprid  8           \n",
       "6 6 2.00e-05       Overspray   2.09766       Pendimethalin 8           \n",
       "  formulation sample_id soil_conc_ugg soil_type source  species         \n",
       "1 0           HGOI1      0.4798464    PLE       rvm2015 Barking treefrog\n",
       "2 0           HGOI2      0.4798464    PLE       rvm2015 Barking treefrog\n",
       "3 0           HGOI3      0.4798464    PLE       rvm2015 Barking treefrog\n",
       "4 0           HGOI4      0.4798464    PLE       rvm2015 Barking treefrog\n",
       "5 0           HGOI5      0.4798464    PLE       rvm2015 Barking treefrog\n",
       "6 0           HGOP1     12.1193484    PLE       rvm2015 Barking treefrog\n",
       "  tissue_conc_ugg\n",
       "1 1.0152872      \n",
       "2 1.6360832      \n",
       "3 0.9261004      \n",
       "4 0.7182776      \n",
       "5 1.0890361      \n",
       "6 2.1387952      "
      ]
     },
     "metadata": {},
     "output_type": "display_data"
    }
   ],
   "source": [
    "# import data \n",
    "combined_data <- read.csv('../data_out/amphib_dermal_collated.csv')\n",
    "# delete 593:601 -- check application units\n",
    "combined_data_drops <- combined_data[-(593:601),]\n",
    "head(combined_data)\n"
   ]
  },
  {
   "cell_type": "markdown",
   "metadata": {},
   "source": [
    "Initialize some constants:"
   ]
  },
  {
   "cell_type": "code",
   "execution_count": 2,
   "metadata": {},
   "outputs": [
    {
     "data": {
      "text/plain": [
       "   Min. 1st Qu.  Median    Mean 3rd Qu.    Max. \n",
       " 0.1879  1.1315  1.8342  2.9861  2.5535 23.3405 "
      ]
     },
     "metadata": {},
     "output_type": "display_data"
    }
   ],
   "source": [
    "n <- length(combined_data_drops$tissue_conc_ugg)\n",
    "app_rate <- combined_data_drops$app_rate_g_cm2\n",
    "body_weight <- combined_data_drops$body_weight_g\n",
    "tissue_conc <- combined_data_drops$tissue_conc_ugg #observed tissue concs\n",
    "conv_rate <- 1000000.0\n",
    "sa_tim_default_frac <- 0.5\n",
    "sa_amphib_hutchinson <- 1.131 * (body_weight ^ 0.579)\n",
    "dermal_af = 0.5 #This is one value that has been used in the past\n",
    "sd = 2\n",
    "pred = (app_rate * conv_rate * sa_amphib_hutchinson * sa_tim_default_frac * dermal_af)/body_weight\n",
    "\n",
    "summary(body_weight)\n"
   ]
  },
  {
   "cell_type": "markdown",
   "metadata": {},
   "source": [
    "## Defining the prior distributions\n",
    "***\n",
    "\n",
    "We need to define what we think we know about the possibel values of dermal_af, as well as the random error s.d.\n",
    "\n",
    "We will start with wide uniform priors:\n",
    "* dermal_af: uniform from 0 to 10\n",
    "* sd: uniform from 0 to 10"
   ]
  },
  {
   "cell_type": "code",
   "execution_count": 3,
   "metadata": {
    "collapsed": true
   },
   "outputs": [],
   "source": [
    "# returns the prior probability for a set of dermal_af and sd values\n",
    "prior <- function(param){\n",
    "  a = param[1]\n",
    "  sd = param[2]\n",
    "  aprior = dunif(a, min=0, max=10, log = T)\n",
    "  sdprior = dunif(sd, min=0, max=10, log = T)\n",
    "  return(aprior+sdprior)\n",
    "}"
   ]
  },
  {
   "cell_type": "markdown",
   "metadata": {},
   "source": [
    "## Defining the likelihood function\n",
    "***\n",
    "\n",
    "We will assume a normally-distributed error term, with unknown sd. So our likelihood function will be univariate (log)normal."
   ]
  },
  {
   "cell_type": "code",
   "execution_count": 4,
   "metadata": {
    "collapsed": true
   },
   "outputs": [],
   "source": [
    "# the likelihood is the probability (density) with which we would expect the \n",
    "# observed data to occur conditional on the parameters of the model that we look at\n",
    "likelihood <- function(param){\n",
    "  dermal_af = param[1]\n",
    "  sd = param[2]\n",
    "  \n",
    "  # pred = a*x + b\n",
    "  pred = (app_rate * conv_rate * sa_amphib_hutchinson * sa_tim_default_frac * dermal_af)/body_weight\n",
    "  # the probability of obtaining the test data above under this model\n",
    "  # we simply calculate the difference between predictions the predicted y and \n",
    "  # the observed y, and then we have to look up the probability densities (using dnorm) \n",
    "  # for such deviations to occur\n",
    "  singlelikelihoods = dnorm(tissue_conc, mean = pred, sd = sd, log = T)\n",
    "  # sum the likelihoods across all the obeserved differences\n",
    "  # we sum the logs as convention to avoid numerical issues, etc.\n",
    "  sumll = sum(singlelikelihoods)\n",
    "  return(sumll)   \n",
    "}"
   ]
  },
  {
   "cell_type": "markdown",
   "metadata": {},
   "source": [
    "## Defining the posterior function\n",
    "***\n",
    "The posterior is, by definition, the likelihood times the prior. Since we are working with log-likelihoods, we will add these terms."
   ]
  },
  {
   "cell_type": "code",
   "execution_count": 5,
   "metadata": {
    "collapsed": true
   },
   "outputs": [],
   "source": [
    "posterior <- function(param){\n",
    "  return (likelihood(param) + prior(param))\n",
    "}"
   ]
  },
  {
   "cell_type": "markdown",
   "metadata": {},
   "source": [
    "## The Metropolis-Hastings MCMC Algorithm\n",
    "***\n",
    "First we need a function that takes a current parameter set and gives a new proposal set.\n",
    "\n",
    "The s.d. in this function is often called the 'step length', and can be tuned to adjust the acceptance rate."
   ]
  },
  {
   "cell_type": "code",
   "execution_count": 6,
   "metadata": {
    "collapsed": true
   },
   "outputs": [],
   "source": [
    "proposalfunction <- function(param){\n",
    "  return(rnorm(2,mean = param, sd= c(0.1,0.3)))\n",
    "}"
   ]
  },
  {
   "cell_type": "markdown",
   "metadata": {},
   "source": [
    "Finally, we can define our Metropolis-Hastings MCMC function"
   ]
  },
  {
   "cell_type": "code",
   "execution_count": 7,
   "metadata": {
    "collapsed": true
   },
   "outputs": [],
   "source": [
    "run_metropolis_MCMC <- function(startvalue, iterations){\n",
    "  chain = array(dim = c(iterations+1,3))\n",
    "  chain[1,1:2] = startvalue\n",
    "  for (i in 1:iterations){\n",
    "    # create candidate inputs\n",
    "    proposal = proposalfunction(chain[i,1:2])\n",
    "    \n",
    "    # compare the new simulation to the previous one\n",
    "    probab = exp(posterior(proposal) - posterior(chain[i,1:2]))\n",
    "    \n",
    "    # decide to accept or reject the proposal\n",
    "    if (runif(1) < probab){\n",
    "      chain[i+1,1:2] = proposal #accept the new proposal\n",
    "    }else{\n",
    "      chain[i+1,1:2] = chain[i,1:2] #reject the new proposal and keep the previous one\n",
    "    }\n",
    "    chain[i+1,3] <- probab # save the acceptance probability in the chain\n",
    "  }\n",
    "  return(chain)\n",
    "}"
   ]
  },
  {
   "cell_type": "markdown",
   "metadata": {},
   "source": [
    "## Running the MCMC sampler\n",
    "***\n",
    "OK, we are ready to do some inference on dermal_af using our empirical data and our Metropolis-Hastings algorithm."
   ]
  },
  {
   "cell_type": "code",
   "execution_count": 8,
   "metadata": {},
   "outputs": [
    {
     "data": {
      "text/html": [
       "<ol class=list-inline>\n",
       "\t<li>100001</li>\n",
       "\t<li>3</li>\n",
       "</ol>\n"
      ],
      "text/latex": [
       "\\begin{enumerate*}\n",
       "\\item 100001\n",
       "\\item 3\n",
       "\\end{enumerate*}\n"
      ],
      "text/markdown": [
       "1. 100001\n",
       "2. 3\n",
       "\n",
       "\n"
      ],
      "text/plain": [
       "[1] 100001      3"
      ]
     },
     "metadata": {},
     "output_type": "display_data"
    },
    {
     "data": {
      "text/plain": [
       "       V1               V2              V3           \n",
       " Min.   :0.1647   Min.   :2.000   Min.   :0.0000000  \n",
       " 1st Qu.:0.2719   1st Qu.:6.265   1st Qu.:0.0000001  \n",
       " Median :0.2873   Median :6.374   Median :0.0011452  \n",
       " Mean   :0.2872   Mean   :6.375   Mean   :      Inf  \n",
       " 3rd Qu.:0.3020   3rd Qu.:6.484   3rd Qu.:0.1223191  \n",
       " Max.   :1.0000   Max.   :7.179   Max.   :      Inf  \n",
       "                                  NA's   :1          "
      ]
     },
     "metadata": {},
     "output_type": "display_data"
    },
    {
     "data": {
      "text/html": [
       "0.163256734865303"
      ],
      "text/latex": [
       "0.163256734865303"
      ],
      "text/markdown": [
       "0.163256734865303"
      ],
      "text/plain": [
       "[1] 0.1632567"
      ]
     },
     "metadata": {},
     "output_type": "display_data"
    }
   ],
   "source": [
    "startvalue = c(1,2) # NOTE: we should draw these from the priors right?\n",
    "iterations = 100000\n",
    "chain = run_metropolis_MCMC(startvalue, iterations)\n",
    "dim(chain)\n",
    "summary(chain)\n",
    "burnIn = 50000 # discard these initial steps due to burn in period\n",
    "acceptance = 1-mean(duplicated(chain[-(1:burnIn),1:2]))\n",
    "acceptance\n",
    "chain_burnfree <- chain[-(1:burnIn),]\n",
    "chain_burnfree[which(chain_burnfree[,3]>1),3] <- 1\n"
   ]
  },
  {
   "cell_type": "markdown",
   "metadata": {},
   "source": [
    "## Visualize the output\n",
    "***"
   ]
  },
  {
   "cell_type": "code",
   "execution_count": 9,
   "metadata": {},
   "outputs": [
    {
     "data": {
      "image/png": "[encoded data removed]",
      "text/plain": [
       "Plot with title \"probs trace\""
      ]
     },
     "metadata": {},
     "output_type": "display_data"
    }
   ],
   "source": [
    "par(mfrow = c(2,3))\n",
    "hist(chain_burnfree[,1],nclass=30, , main=\"Posterior of dermal_af\", xlab=\"\")\n",
    "abline(v = mean(chain_burnfree[,1]), col=\"red\")\n",
    "hist(chain_burnfree[,2],nclass=30, main=\"Posterior of sd\", xlab=\"\")\n",
    "abline(v = mean(chain_burnfree[,2]), col=\"red\" )\n",
    "hist(chain_burnfree[,3],nclass=30, main=\"probs\", xlab=\"\")\n",
    "abline(v = mean(chain_burnfree[,3]), col=\"red\" )\n",
    "plot(chain_burnfree[,1], type = \"l\", xlab=\"Step #\" , ylab = \"Parameter\", main = \"Chain values of dermal_af\", )\n",
    "abline(h = mean(chain_burnfree[,1]), col=\"red\" )\n",
    "plot(chain_burnfree[,2], type = \"l\", xlab=\"Step #\" , ylab = \"Parameter\", main = \"Chain values of sd\", )\n",
    "abline(h = mean(chain_burnfree[,2]), col=\"red\" )\n",
    "plot(chain_burnfree[,3], type = \"l\", xlab=\"Step #\" , ylab = \"Parameter\", main = \"probs trace\", )\n",
    "abline(h = mean(chain_burnfree[,3]), col=\"red\" )"
   ]
  }
 ],
 "metadata": {
  "kernelspec": {
   "display_name": "R",
   "language": "R",
   "name": "ir"
  },
  "language_info": {
   "codemirror_mode": "r",
   "file_extension": ".r",
   "mimetype": "text/x-r-source",
   "name": "R",
   "pygments_lexer": "r",
   "version": "3.4.3"
  }
 },
 "nbformat": 4,
 "nbformat_minor": 2
}
